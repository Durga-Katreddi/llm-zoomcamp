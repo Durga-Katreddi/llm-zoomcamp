{
 "cells": [
  {
   "cell_type": "code",
   "execution_count": 7,
   "id": "5ea0f8ca-64d8-4023-adc4-4771c23f9443",
   "metadata": {},
   "outputs": [],
   "source": [
    "#Ref: https://ai.google.dev/gemini-api/docs/get-started/tutorial?lang=python\n",
    "import pathlib\n",
    "import textwrap\n",
    "\n",
    "import google.generativeai as genai\n",
    "\n",
    "from IPython.display import display\n",
    "from IPython.display import Markdown\n",
    "\n",
    "\n",
    "def to_markdown(text):\n",
    "  text = text.replace('•', '  *')\n",
    "  return Markdown(textwrap.indent(text, '> ', predicate=lambda _: True))"
   ]
  },
  {
   "cell_type": "code",
   "execution_count": 8,
   "id": "ed6ce4f0-cf7c-4063-a6b1-df13267c043a",
   "metadata": {},
   "outputs": [],
   "source": [
    "import os\n",
    "\n",
    "genai.configure(api_key = os.getenv(\"GOOGLE_API_KEY\"))\n",
    "# print(f\"Your API key is: {api_key}\")\n"
   ]
  },
  {
   "cell_type": "code",
   "execution_count": 10,
   "id": "3aeeb842-d68e-4543-8f20-2472edaa1937",
   "metadata": {},
   "outputs": [
    {
     "name": "stdout",
     "output_type": "stream",
     "text": [
      "models/gemini-1.0-pro\n",
      "models/gemini-1.0-pro-001\n",
      "models/gemini-1.0-pro-latest\n",
      "models/gemini-1.0-pro-vision-latest\n",
      "models/gemini-1.5-flash\n",
      "models/gemini-1.5-flash-001\n",
      "models/gemini-1.5-flash-latest\n",
      "models/gemini-1.5-pro\n",
      "models/gemini-1.5-pro-001\n",
      "models/gemini-1.5-pro-latest\n",
      "models/gemini-pro\n",
      "models/gemini-pro-vision\n"
     ]
    }
   ],
   "source": [
    "#to see available gemini models\n",
    "for m in genai.list_models():\n",
    "    if 'generateContent' in m.supported_generation_methods:\n",
    "        print(m.name)"
   ]
  },
  {
   "cell_type": "code",
   "execution_count": 11,
   "id": "13a4f2a4-d89e-4f5d-8139-ceb7e44e218e",
   "metadata": {},
   "outputs": [],
   "source": [
    "model = genai.GenerativeModel('gemini-1.0-pro')"
   ]
  },
  {
   "cell_type": "code",
   "execution_count": null,
   "id": "8068f645-f87d-4e8c-9858-e2e67eb70738",
   "metadata": {},
   "outputs": [],
   "source": []
  },
  {
   "cell_type": "code",
   "execution_count": null,
   "id": "4678216b-e230-4f38-9e60-1a7885c96be4",
   "metadata": {},
   "outputs": [],
   "source": []
  }
 ],
 "metadata": {
  "kernelspec": {
   "display_name": "Python 3 (ipykernel)",
   "language": "python",
   "name": "python3"
  },
  "language_info": {
   "codemirror_mode": {
    "name": "ipython",
    "version": 3
   },
   "file_extension": ".py",
   "mimetype": "text/x-python",
   "name": "python",
   "nbconvert_exporter": "python",
   "pygments_lexer": "ipython3",
   "version": "3.10.13"
  }
 },
 "nbformat": 4,
 "nbformat_minor": 5
}
