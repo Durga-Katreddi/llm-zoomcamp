{
 "cells": [
  {
   "cell_type": "code",
   "execution_count": 1,
   "id": "5ea0f8ca-64d8-4023-adc4-4771c23f9443",
   "metadata": {},
   "outputs": [],
   "source": [
    "#Ref: https://ai.google.dev/gemini-api/docs/get-started/tutorial?lang=python\n",
    "import pathlib\n",
    "import textwrap\n",
    "\n",
    "import google.generativeai as genai\n",
    "\n",
    "from IPython.display import display\n",
    "from IPython.display import Markdown\n",
    "\n",
    "\n",
    "def to_markdown(text):\n",
    "  text = text.replace('•', '  *')\n",
    "  return Markdown(textwrap.indent(text, '> ', predicate=lambda _: True))"
   ]
  },
  {
   "cell_type": "code",
   "execution_count": 2,
   "id": "ed6ce4f0-cf7c-4063-a6b1-df13267c043a",
   "metadata": {},
   "outputs": [],
   "source": [
    "import os\n",
    "\n",
    "genai.configure(api_key = os.getenv(\"GOOGLE_API_KEY\"))\n",
    "# print(f\"Your API key is: {api_key}\")\n"
   ]
  },
  {
   "cell_type": "code",
   "execution_count": 3,
   "id": "3aeeb842-d68e-4543-8f20-2472edaa1937",
   "metadata": {},
   "outputs": [
    {
     "name": "stdout",
     "output_type": "stream",
     "text": [
      "models/gemini-1.0-pro\n",
      "models/gemini-1.0-pro-001\n",
      "models/gemini-1.0-pro-latest\n",
      "models/gemini-1.0-pro-vision-latest\n",
      "models/gemini-1.5-flash\n",
      "models/gemini-1.5-flash-001\n",
      "models/gemini-1.5-flash-latest\n",
      "models/gemini-1.5-pro\n",
      "models/gemini-1.5-pro-001\n",
      "models/gemini-1.5-pro-latest\n",
      "models/gemini-pro\n",
      "models/gemini-pro-vision\n"
     ]
    }
   ],
   "source": [
    "#to see available gemini models\n",
    "for m in genai.list_models():\n",
    "    if 'generateContent' in m.supported_generation_methods:\n",
    "        print(m.name)"
   ]
  },
  {
   "cell_type": "code",
   "execution_count": 4,
   "id": "13a4f2a4-d89e-4f5d-8139-ceb7e44e218e",
   "metadata": {},
   "outputs": [],
   "source": [
    "#for text we can either use models/gemini-1.5-flash or gemini-1.0-pro\n",
    "model = genai.GenerativeModel('gemini-1.0-pro')"
   ]
  },
  {
   "cell_type": "code",
   "execution_count": 5,
   "id": "8068f645-f87d-4e8c-9858-e2e67eb70738",
   "metadata": {},
   "outputs": [
    {
     "name": "stdout",
     "output_type": "stream",
     "text": [
      "CPU times: user 1.51 ms, sys: 7.39 ms, total: 8.89 ms\n",
      "Wall time: 3.17 s\n"
     ]
    }
   ],
   "source": [
    "%%time\n",
    "response = model.generate_content(\"Does it effect my certification if i submit my homework late?\")"
   ]
  },
  {
   "cell_type": "code",
   "execution_count": 6,
   "id": "4678216b-e230-4f38-9e60-1a7885c96be4",
   "metadata": {},
   "outputs": [
    {
     "data": {
      "text/markdown": [
       "> Whether or not submitting your homework late will affect your certification depends on the specific certification program and issuing organization. Some programs may have strict deadlines and penalties for late submissions, while others may be more lenient. \n",
       "> \n",
       "> It's important to check the specific requirements of your certification program to determine the consequences of submitting your homework late. If you are unsure, it's advisable to contact the issuing organization directly to inquire about their policies. \n",
       "> \n",
       "> In some cases, late submissions may result in a reduction in your overall grade for the course or module associated with the homework. In more serious cases, it may lead to disqualification from the certification program. However, many programs will allow for late submissions with a penalty, such as a reduced grade or a late fee. It's always best to submit your homework on time to avoid any potential issues."
      ],
      "text/plain": [
       "<IPython.core.display.Markdown object>"
      ]
     },
     "execution_count": 6,
     "metadata": {},
     "output_type": "execute_result"
    }
   ],
   "source": [
    "to_markdown(response.text)"
   ]
  },
  {
   "cell_type": "code",
   "execution_count": 7,
   "id": "2dc1de55-fe19-42f8-807b-9f3e29d9091e",
   "metadata": {},
   "outputs": [
    {
     "name": "stderr",
     "output_type": "stream",
     "text": [
      "UsageError: Line magic function `%%time` not found.\n"
     ]
    }
   ],
   "source": [
    "#for text we can either use models/gemini-1.5-flash or gemini-1.0-pro\n",
    "model = genai.GenerativeModel('gemini-1.5-flash')\n"
   ]
  },
  {
   "cell_type": "code",
   "execution_count": 8,
   "id": "3dbc0d1b-b9d9-4975-b207-3e23b3a19666",
   "metadata": {},
   "outputs": [
    {
     "name": "stdout",
     "output_type": "stream",
     "text": [
      "CPU times: user 1.31 ms, sys: 2.13 ms, total: 3.44 ms\n",
      "Wall time: 1.93 s\n"
     ]
    },
    {
     "data": {
      "text/markdown": [
       "> I need more information to answer your question accurately! Please tell me:\n",
       "> \n",
       "> * **What kind of certification are you working towards?**  Is it a professional certification (like a CPA or PMP), a certification for a specific software (like Microsoft Office Specialist), or a certification from a university or educational institution?\n",
       "> * **What are the rules and policies for late submissions for this specific certification program?**  Do they have a late submission policy, and if so, what are the consequences? \n",
       "> * **How late is your homework?**  Is it just a few hours late, a day late, or significantly later than the deadline?\n",
       "> \n",
       "> Once I have this information, I can give you a better answer about whether late homework will affect your certification. \n"
      ],
      "text/plain": [
       "<IPython.core.display.Markdown object>"
      ]
     },
     "execution_count": 8,
     "metadata": {},
     "output_type": "execute_result"
    }
   ],
   "source": [
    "%%time \n",
    "response = model.generate_content(\"Does it effect my certification if i submit my homework late?\")\n",
    "to_markdown(response.text)"
   ]
  },
  {
   "cell_type": "code",
   "execution_count": null,
   "id": "91c53d81-43d3-448d-9ab7-eb7eaadc62bb",
   "metadata": {},
   "outputs": [],
   "source": []
  }
 ],
 "metadata": {
  "kernelspec": {
   "display_name": "Python 3 (ipykernel)",
   "language": "python",
   "name": "python3"
  },
  "language_info": {
   "codemirror_mode": {
    "name": "ipython",
    "version": 3
   },
   "file_extension": ".py",
   "mimetype": "text/x-python",
   "name": "python",
   "nbconvert_exporter": "python",
   "pygments_lexer": "ipython3",
   "version": "3.10.13"
  }
 },
 "nbformat": 4,
 "nbformat_minor": 5
}
